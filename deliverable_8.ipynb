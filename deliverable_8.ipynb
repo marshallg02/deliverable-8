{
  "nbformat": 4,
  "nbformat_minor": 0,
  "metadata": {
    "colab": {
      "provenance": []
    },
    "kernelspec": {
      "name": "python3",
      "display_name": "Python 3"
    },
    "language_info": {
      "name": "python"
    }
  },
  "cells": [
    {
      "cell_type": "code",
      "execution_count": 1,
      "metadata": {
        "id": "jaH9zHuHaUP0"
      },
      "outputs": [],
      "source": [
        "import numpy as np"
      ]
    },
    {
      "cell_type": "code",
      "source": [
        "def generate_random_list(size):\n",
        "  list = []\n",
        "  for i in range(size):\n",
        "    list.append(np.random.randint(10,50))\n",
        "  return list"
      ],
      "metadata": {
        "id": "D0aLNT23aa6I"
      },
      "execution_count": 2,
      "outputs": []
    },
    {
      "cell_type": "code",
      "source": [
        "def sum_list_elements (list):\n",
        "  sum = 0\n",
        "  for i in range(len(list)):\n",
        "    sum = sum + list[i]\n",
        "  return sum"
      ],
      "metadata": {
        "id": "Pxz_qoGxacij"
      },
      "execution_count": 3,
      "outputs": []
    },
    {
      "cell_type": "code",
      "source": [
        "while True:\n",
        "    u_input = input(\"enter some integer between 5 and 15: \")\n",
        "    try:\n",
        "        num = int(u_input)\n",
        "        if 5 <= num <= 15:\n",
        "            break\n",
        "        else:\n",
        "            print(\"input must be between 5 and 15.\")\n",
        "    except ValueError:\n",
        "        print(\"input must be an int.\")"
      ],
      "metadata": {
        "colab": {
          "base_uri": "https://localhost:8080/"
        },
        "id": "zX0o-Tx0agB5",
        "outputId": "cb667d13-11e6-4565-e5a5-cbced0b945c6"
      },
      "execution_count": 4,
      "outputs": [
        {
          "name": "stdout",
          "output_type": "stream",
          "text": [
            "enter some integer between 5 and 15: 5\n"
          ]
        }
      ]
    },
    {
      "cell_type": "code",
      "source": [
        "lst = generate_random_list(num)\n",
        "print(\"The elements of the arrays are:\", *lst)"
      ],
      "metadata": {
        "colab": {
          "base_uri": "https://localhost:8080/"
        },
        "id": "Z5Ux29uEaj1h",
        "outputId": "7054cd8c-0199-4b71-d62f-7eeb2ea2bad1"
      },
      "execution_count": 5,
      "outputs": [
        {
          "output_type": "stream",
          "name": "stdout",
          "text": [
            "The elements of the arrays are: 16 47 13 30 31\n"
          ]
        }
      ]
    },
    {
      "cell_type": "code",
      "source": [
        "sum_of_elements = sum_list_elements(lst)\n",
        "print(\"The summation is:\", sum_of_elements)"
      ],
      "metadata": {
        "colab": {
          "base_uri": "https://localhost:8080/"
        },
        "id": "SpDWiX9panp9",
        "outputId": "f6335154-0385-464f-fc6c-8774ffe2f9b4"
      },
      "execution_count": 6,
      "outputs": [
        {
          "output_type": "stream",
          "name": "stdout",
          "text": [
            "The summation is: 137\n"
          ]
        }
      ]
    }
  ]
}